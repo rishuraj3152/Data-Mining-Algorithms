{
 "cells": [
  {
   "cell_type": "code",
   "execution_count": 26,
   "metadata": {},
   "outputs": [
    {
     "name": "stdout",
     "output_type": "stream",
     "text": [
      "{(1,): 6, (1, 2): 4, (2, 3): 4, (1, 3): 4, (2,): 7}\n",
      "{(1,): ((3,), 0.6666666666666666), (2,): ((3,), 0.5714285714285714)}\n"
     ]
    }
   ],
   "source": [
    "import numpy as np\n",
    "import pprint\n",
    "import pyfpgrowth\n",
    "\n",
    "\n",
    "data=[[1,2,5],[2,4],[2,3],[1,2,4],[1,3],[2,3],[1,3],[1,2,3,5],[1,2,3]]\n",
    "\n",
    "#min_support=0.3*len(data)\n",
    "pattern = pyfpgrowth.find_frequent_patterns(data,2.7)\n",
    "\n",
    "#pprint.pprint(pattern)\n",
    "print(pattern)\n",
    "rules = pyfpgrowth.generate_association_rules(pattern,0)\n",
    "\n",
    "pprint.pprint(rules)\n",
    "\n"
   ]
  },
  {
   "cell_type": "code",
   "execution_count": null,
   "metadata": {},
   "outputs": [],
   "source": []
  }
 ],
 "metadata": {
  "kernelspec": {
   "display_name": "Python 3",
   "language": "python",
   "name": "python3"
  },
  "language_info": {
   "codemirror_mode": {
    "name": "ipython",
    "version": 3
   },
   "file_extension": ".py",
   "mimetype": "text/x-python",
   "name": "python",
   "nbconvert_exporter": "python",
   "pygments_lexer": "ipython3",
   "version": "3.7.1"
  }
 },
 "nbformat": 4,
 "nbformat_minor": 2
}
