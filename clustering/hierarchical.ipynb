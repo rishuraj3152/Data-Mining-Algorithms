{
 "cells": [
  {
   "cell_type": "code",
   "execution_count": 91,
   "metadata": {},
   "outputs": [
    {
     "name": "stdout",
     "output_type": "stream",
     "text": [
      "initial clusters are [[0], [1], [2], [3], [4], [5]]\n"
     ]
    }
   ],
   "source": [
    "####Hierarchichal clustering based upon average clustering####\n",
    "import numpy as np\n",
    "data=[[999,0.71,5.66,3.61,4.24,3.20],[0.71,999,4.95,2.92,3.54,2.50],\n",
    "              [5.66,4.95,999,2.24,1.41,2.50],[3.61,2.92,2.24,999,1.0,0.5],\n",
    "              [4.24,3.54,1.41,1.0,999,1.12],[3.20,2.50,2.50,0.5,1.12,999]]\n",
    "m,n=len(data),len(data[0])\n",
    "clusters=[[0],[1],[2],[3],[4],[5]]\n",
    "print(\"initial clusters are\",clusters)"
   ]
  },
  {
   "cell_type": "code",
   "execution_count": 92,
   "metadata": {},
   "outputs": [
    {
     "name": "stdout",
     "output_type": "stream",
     "text": [
      "after one iteration clusters are [[0], [1], [2], [3, 5], [4]]\n",
      "minimum value obtained= 0.71 between cluster 0 and cluster 1\n",
      "after 1 th iteration clusters are [[0, 1], [2], [3, 5], [4]]\n",
      "minimum value obtained= 1.06 between cluster 2 and cluster 3\n",
      "after 2 th iteration clusters are [[0, 1], [2], [3, 5, 4]]\n",
      "minimum value obtained= 2.0500000000000003 between cluster 1 and cluster 2\n",
      "after 3 th iteration clusters are [[0, 1], [2, 3, 5, 4]]\n",
      "minimum value obtained= 3.8274999999999997 between cluster 0 and cluster 1\n",
      "after 4 th iteration clusters are [[0, 1, 2, 3, 5, 4]]\n"
     ]
    }
   ],
   "source": [
    "##initially consider each point as one cluster and average\n",
    "##distance between each cluster will remain same\n",
    "minimum=data[0][1]\n",
    "for i in range(m):\n",
    "    for j in range(n):\n",
    "        if(data[i][j]<minimum and data[i][j]>0):\n",
    "            minimum=data[i][j]\n",
    "            source=i\n",
    "            destination=j\n",
    "\n",
    "##updated clusters\n",
    "def update_clusters(clusters,source,destination):\n",
    "    for k in clusters[destination]:\n",
    "        clusters[source].append(k)\n",
    "    clusters.remove(clusters[destination])\n",
    "    \n",
    "    \n",
    "update_clusters(clusters,source,destination)\n",
    "print(\"after one iteration clusters are\",clusters)\n",
    "\n",
    "##finding average distance again\n",
    "def find_min(data,clusters):\n",
    "    minimum=99999\n",
    "    for i in range(len(clusters)-1):\n",
    "        for j in range(len(clusters)):\n",
    "            summation=0\n",
    "            for k in clusters[i]:\n",
    "                for h in clusters[j]:\n",
    "                    summation+=data[k][h]\n",
    "            value=summation/(len(clusters[i])*len(clusters[j]))\n",
    "            #print(value)\n",
    "            if(value<minimum):\n",
    "                minimum=value\n",
    "                source=i\n",
    "                destination=j\n",
    "    return minimum,source,destination\n",
    "\n",
    "for i in range(len(clusters)-1):\n",
    "    minimum,source,destination=find_min(data,clusters)\n",
    "    print(\"minimum value obtained=\",minimum,\"between cluster\",source,\"and cluster\",destination)\n",
    "\n",
    "    ##updating clusters again\n",
    "    update_clusters(clusters,source,destination)\n",
    "    print(\"after\",i+1,\"th iteration clusters are\",clusters)"
   ]
  },
  {
   "cell_type": "code",
   "execution_count": null,
   "metadata": {},
   "outputs": [],
   "source": [
    "\n",
    "        "
   ]
  }
 ],
 "metadata": {
  "kernelspec": {
   "display_name": "Python 3",
   "language": "python",
   "name": "python3"
  },
  "language_info": {
   "codemirror_mode": {
    "name": "ipython",
    "version": 3
   },
   "file_extension": ".py",
   "mimetype": "text/x-python",
   "name": "python",
   "nbconvert_exporter": "python",
   "pygments_lexer": "ipython3",
   "version": "3.7.1"
  }
 },
 "nbformat": 4,
 "nbformat_minor": 2
}
