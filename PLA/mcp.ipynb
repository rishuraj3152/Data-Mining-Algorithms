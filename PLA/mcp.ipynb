{
 "cells": [
  {
   "cell_type": "code",
   "execution_count": 1,
   "metadata": {},
   "outputs": [],
   "source": [
    "import pandas as pd\n",
    "import numpy as np\n",
    "import matplotlib.pyplot as plt\n",
    "from matplotlib.colors import ListedColormap\n",
    "from sklearn.model_selection import train_test_split"
   ]
  },
  {
   "cell_type": "code",
   "execution_count": 7,
   "metadata": {},
   "outputs": [
    {
     "name": "stdout",
     "output_type": "stream",
     "text": [
      "     SepalLengthCm  SepalWidthCm  PetalLengthCm  PetalWidthCm         Species\n",
      "0              5.1           3.5            1.4           0.2     Iris-setosa\n",
      "1              4.9           3.0            1.4           0.2     Iris-setosa\n",
      "2              4.7           3.2            1.3           0.2     Iris-setosa\n",
      "3              4.6           3.1            1.5           0.2     Iris-setosa\n",
      "4              5.0           3.6            1.4           0.2     Iris-setosa\n",
      "5              5.4           3.9            1.7           0.4     Iris-setosa\n",
      "6              4.6           3.4            1.4           0.3     Iris-setosa\n",
      "7              5.0           3.4            1.5           0.2     Iris-setosa\n",
      "8              4.4           2.9            1.4           0.2     Iris-setosa\n",
      "9              4.9           3.1            1.5           0.1     Iris-setosa\n",
      "10             5.4           3.7            1.5           0.2     Iris-setosa\n",
      "11             4.8           3.4            1.6           0.2     Iris-setosa\n",
      "12             4.8           3.0            1.4           0.1     Iris-setosa\n",
      "13             4.3           3.0            1.1           0.1     Iris-setosa\n",
      "14             5.8           4.0            1.2           0.2     Iris-setosa\n",
      "15             5.7           4.4            1.5           0.4     Iris-setosa\n",
      "16             5.4           3.9            1.3           0.4     Iris-setosa\n",
      "17             5.1           3.5            1.4           0.3     Iris-setosa\n",
      "18             5.7           3.8            1.7           0.3     Iris-setosa\n",
      "19             5.1           3.8            1.5           0.3     Iris-setosa\n",
      "20             5.4           3.4            1.7           0.2     Iris-setosa\n",
      "21             5.1           3.7            1.5           0.4     Iris-setosa\n",
      "22             4.6           3.6            1.0           0.2     Iris-setosa\n",
      "23             5.1           3.3            1.7           0.5     Iris-setosa\n",
      "24             4.8           3.4            1.9           0.2     Iris-setosa\n",
      "25             5.0           3.0            1.6           0.2     Iris-setosa\n",
      "26             5.0           3.4            1.6           0.4     Iris-setosa\n",
      "27             5.2           3.5            1.5           0.2     Iris-setosa\n",
      "28             5.2           3.4            1.4           0.2     Iris-setosa\n",
      "29             4.7           3.2            1.6           0.2     Iris-setosa\n",
      "..             ...           ...            ...           ...             ...\n",
      "120            6.9           3.2            5.7           2.3  Iris-virginica\n",
      "121            5.6           2.8            4.9           2.0  Iris-virginica\n",
      "122            7.7           2.8            6.7           2.0  Iris-virginica\n",
      "123            6.3           2.7            4.9           1.8  Iris-virginica\n",
      "124            6.7           3.3            5.7           2.1  Iris-virginica\n",
      "125            7.2           3.2            6.0           1.8  Iris-virginica\n",
      "126            6.2           2.8            4.8           1.8  Iris-virginica\n",
      "127            6.1           3.0            4.9           1.8  Iris-virginica\n",
      "128            6.4           2.8            5.6           2.1  Iris-virginica\n",
      "129            7.2           3.0            5.8           1.6  Iris-virginica\n",
      "130            7.4           2.8            6.1           1.9  Iris-virginica\n",
      "131            7.9           3.8            6.4           2.0  Iris-virginica\n",
      "132            6.4           2.8            5.6           2.2  Iris-virginica\n",
      "133            6.3           2.8            5.1           1.5  Iris-virginica\n",
      "134            6.1           2.6            5.6           1.4  Iris-virginica\n",
      "135            7.7           3.0            6.1           2.3  Iris-virginica\n",
      "136            6.3           3.4            5.6           2.4  Iris-virginica\n",
      "137            6.4           3.1            5.5           1.8  Iris-virginica\n",
      "138            6.0           3.0            4.8           1.8  Iris-virginica\n",
      "139            6.9           3.1            5.4           2.1  Iris-virginica\n",
      "140            6.7           3.1            5.6           2.4  Iris-virginica\n",
      "141            6.9           3.1            5.1           2.3  Iris-virginica\n",
      "142            5.8           2.7            5.1           1.9  Iris-virginica\n",
      "143            6.8           3.2            5.9           2.3  Iris-virginica\n",
      "144            6.7           3.3            5.7           2.5  Iris-virginica\n",
      "145            6.7           3.0            5.2           2.3  Iris-virginica\n",
      "146            6.3           2.5            5.0           1.9  Iris-virginica\n",
      "147            6.5           3.0            5.2           2.0  Iris-virginica\n",
      "148            6.2           3.4            5.4           2.3  Iris-virginica\n",
      "149            5.9           3.0            5.1           1.8  Iris-virginica\n",
      "\n",
      "[150 rows x 5 columns]\n"
     ]
    }
   ],
   "source": [
    "data = pd.read_csv(\"iris.csv\")\n",
    "data=data.iloc[:,1:]\n",
    "print(data)\n",
    "data.head()\n",
    "data['Species']=data['Species'].map({'Iris-setosa':0,'Iris-versicolor':1,'Iris-virginica':2})\n",
    "data = data[['SepalLengthCm','PetalLengthCm','Species']]\n",
    "data=np.array(data)\n",
    "#print(data)"
   ]
  },
  {
   "cell_type": "code",
   "execution_count": 3,
   "metadata": {},
   "outputs": [
    {
     "name": "stdout",
     "output_type": "stream",
     "text": [
      "[[1 0 0]\n",
      " [0 1 0]\n",
      " [0 0 1]]\n"
     ]
    }
   ],
   "source": [
    "##initialising weight matrix with identity matrix\n",
    "w =np.array([[1,0,0],[0,1,0],[0,0,1]])\n",
    "print(w)"
   ]
  },
  {
   "cell_type": "code",
   "execution_count": 4,
   "metadata": {},
   "outputs": [],
   "source": [
    "X = data[:,:2]\n",
    "Y = data[:,2]\n",
    "ones = np.ones([X.shape[0],1])\n",
    "X = np.concatenate((ones,X),axis=1)\n",
    "x_train,x_test,y_train,y_test=train_test_split(X,Y,random_state=40,test_size=.30)"
   ]
  },
  {
   "cell_type": "code",
   "execution_count": 5,
   "metadata": {},
   "outputs": [
    {
     "name": "stdout",
     "output_type": "stream",
     "text": [
      "      0    1    2\n",
      "0   1.0  5.1  1.5\n",
      "1   1.0  4.9  1.5\n",
      "2   1.0  4.8  1.9\n",
      "3   1.0  5.4  1.3\n",
      "4   1.0  5.0  1.4\n",
      "5   1.0  5.4  1.5\n",
      "6   1.0  4.8  1.4\n",
      "7   1.0  4.7  1.6\n",
      "8   1.0  4.6  1.4\n",
      "9   1.0  5.4  1.7\n",
      "10  1.0  5.2  1.5\n",
      "11  1.0  5.1  1.5\n",
      "12  1.0  5.2  1.5\n",
      "13  1.0  4.9  1.5\n",
      "14  1.0  5.5  1.4\n",
      "15  1.0  4.9  1.4\n",
      "16  1.0  5.1  1.4\n",
      "17  1.0  5.5  1.3\n",
      "18  1.0  5.0  1.6\n",
      "19  1.0  4.5  1.3\n",
      "20  1.0  5.4  1.7\n",
      "21  1.0  5.4  1.5\n",
      "22  1.0  5.0  1.2\n",
      "23  1.0  5.0  1.6\n",
      "24  1.0  5.1  1.6\n",
      "25  1.0  5.1  1.9\n",
      "26  1.0  4.8  1.6\n",
      "27  1.0  4.6  1.0\n",
      "28  1.0  5.8  1.2\n",
      "29  1.0  4.4  1.4\n",
      "30  1.0  5.0  1.4\n",
      "31  1.0  5.1  1.5\n",
      "32  1.0  4.8  1.4\n",
      "33  1.0  5.0  1.5\n"
     ]
    },
    {
     "data": {
      "image/png": "[encoded data removed]",
      "text/plain": [
       "<Figure size 432x288 with 1 Axes>"
      ]
     },
     "metadata": {
      "needs_background": "light"
     },
     "output_type": "display_data"
    }
   ],
   "source": [
    "zero = []\n",
    "one = []\n",
    "two=[]\n",
    "for i in range (0, x_train.shape[0]):\n",
    "    if (y_train[i] == 0):\n",
    "        zero.append(x_train[i])\n",
    "    elif (y_train[i] == 1):\n",
    "        one.append(x_train[i])\n",
    "    else :\n",
    "        two.append(x_train[i])\n",
    "zero = pd.DataFrame(zero)\n",
    "one = pd.DataFrame(one)\n",
    "two=pd.DataFrame(two)\n",
    "print(zero)\n",
    "plt.scatter(x=zero.iloc[:,1], y=zero.iloc[:,2], c=\"b\")\n",
    "plt.scatter(x=one.iloc[:,1], y=one.iloc[:,2], c=\"g\")\n",
    "plt.scatter(x=two.iloc[:,1], y=two.iloc[:,2], c=\"r\")\n",
    "plt.show()"
   ]
  },
  {
   "cell_type": "code",
   "execution_count": 7,
   "metadata": {},
   "outputs": [],
   "source": [
    "def multi_class_train(x,y,theta):\n",
    "    for i in range(0,x_train.shape[0]):\n",
    "        a = np.dot(x_train[i],theta[0])\n",
    "        b = np.dot(x_train[i],theta[1])\n",
    "        c = np.dot(x_train[i],theta[2])\n",
    "        if max(a,b,c) == a:\n",
    "            if y_train[i]!=0:\n",
    "                theta[0]=theta[0] - x_train[i]\n",
    "                if y_train[i]==1:\n",
    "                    theta[1]=theta[1] + x_train[i]\n",
    "                else:\n",
    "                    theta[2]=theta[2] + x_train[i]\n",
    "        if max(a,b,c)==b:\n",
    "            if y_train[i]!=1:\n",
    "                theta[1]=theta[1] - x_train[i]\n",
    "                if y_train[i]==0:\n",
    "                    theta[0]=theta[0] + x_train[i]\n",
    "                else:\n",
    "                    theta[2]=theta[2] + x_train[i]\n",
    "        if max(a,b,c)==c:\n",
    "            if y_train[i]!=2:\n",
    "                theta[2]=theta[2] - x_train[i]\n",
    "                if y_train[i]==0:\n",
    "                    theta[0]=theta[0] + x_train[i]\n",
    "                else:\n",
    "                    theta[1]=theta[1] + x_train[i]\n",
    "    return theta"
   ]
  },
  {
   "cell_type": "code",
   "execution_count": 8,
   "metadata": {},
   "outputs": [],
   "source": [
    "def predict_class(x_test,theta):\n",
    "    predictions = []\n",
    "    for i in range(0,x_test.shape[0]):\n",
    "        a = np.dot(x_test[i],theta[0])\n",
    "        b = np.dot(x_test[i],theta[1])\n",
    "        c = np.dot(x_test[i],theta[2])\n",
    "        if max(a,b,c) == a:\n",
    "            predictions.append(0)\n",
    "        if max(a,b,c) == b:\n",
    "            predictions.append(1)\n",
    "        if max(a,b,c) == c:\n",
    "            predictions.append(2)\n",
    "    return predictions"
   ]
  },
  {
   "cell_type": "code",
   "execution_count": 9,
   "metadata": {},
   "outputs": [],
   "source": [
    "def accuracy(predicted,y_test):\n",
    "    count = 0\n",
    "    for i in range(y_test.shape[0]):\n",
    "        if predicted[i] == y_test[i]:\n",
    "            count = count + 1\n",
    "    print((count/y_test.shape[0])*100)"
   ]
  },
  {
   "cell_type": "code",
   "execution_count": 10,
   "metadata": {},
   "outputs": [],
   "source": [
    "for i in range(0,1000):\n",
    "    p=multi_class_train(x_train,y_train,w)"
   ]
  },
  {
   "cell_type": "code",
   "execution_count": 11,
   "metadata": {},
   "outputs": [
    {
     "data": {
      "image/png": "[encoded data removed]",
      "text/plain": [
       "<Figure size 432x288 with 1 Axes>"
      ]
     },
     "metadata": {
      "needs_background": "light"
     },
     "output_type": "display_data"
    }
   ],
   "source": [
    "predicted = predict_class(x_test,p)\n",
    "# predicted\n",
    "zero1 = []\n",
    "one1 = []\n",
    "two1=[]\n",
    "for i in range (0, x_test.shape[0]):\n",
    "    if (y_test[i] == 0):\n",
    "        zero1.append(x_test[i])\n",
    "    elif (y_test[i] == 1):\n",
    "        one1.append(x_test[i])\n",
    "    else :\n",
    "        two1.append(x_test[i])\n",
    "zero1 = pd.DataFrame(zero1)\n",
    "one1 = pd.DataFrame(one1)\n",
    "two1=pd.DataFrame(two1)\n",
    "    \n",
    "plt.scatter(x=zero1.iloc[:,1], y=zero1.iloc[:,2], c=\"b\")\n",
    "plt.scatter(x=one1.iloc[:,1], y=one1.iloc[:,2], c=\"g\")\n",
    "plt.scatter(x=two1.iloc[:,1], y=two1.iloc[:,2], c=\"r\")\n",
    "plt.show()"
   ]
  },
  {
   "cell_type": "code",
   "execution_count": 12,
   "metadata": {},
   "outputs": [
    {
     "name": "stdout",
     "output_type": "stream",
     "text": [
      "Predicted\t actual\n",
      "0 \t\t 0.0\n",
      "1 \t\t 1.0\n",
      "2 \t\t 2.0\n",
      "2 \t\t 2.0\n",
      "1 \t\t 1.0\n",
      "2 \t\t 2.0\n",
      "1 \t\t 1.0\n",
      "1 \t\t 1.0\n",
      "1 \t\t 1.0\n",
      "0 \t\t 0.0\n",
      "1 \t\t 1.0\n",
      "0 \t\t 0.0\n",
      "0 \t\t 0.0\n",
      "1 \t\t 2.0\n",
      "1 \t\t 1.0\n",
      "2 \t\t 2.0\n",
      "1 \t\t 2.0\n",
      "2 \t\t 2.0\n",
      "1 \t\t 1.0\n",
      "1 \t\t 1.0\n",
      "2 \t\t 2.0\n",
      "2 \t\t 2.0\n",
      "1 \t\t 1.0\n",
      "0 \t\t 0.0\n",
      "1 \t\t 1.0\n",
      "0 \t\t 0.0\n",
      "0 \t\t 0.0\n",
      "2 \t\t 2.0\n",
      "0 \t\t 0.0\n",
      "1 \t\t 1.0\n",
      "1 \t\t 1.0\n",
      "0 \t\t 0.0\n",
      "0 \t\t 0.0\n",
      "0 \t\t 0.0\n",
      "0 \t\t 0.0\n",
      "2 \t\t 2.0\n",
      "0 \t\t 0.0\n",
      "0 \t\t 0.0\n",
      "1 \t\t 2.0\n",
      "0 \t\t 0.0\n",
      "0 \t\t 0.0\n",
      "1 \t\t 1.0\n",
      "1 \t\t 2.0\n",
      "2 \t\t 2.0\n",
      "2 \t\t 2.0\n"
     ]
    }
   ],
   "source": [
    "print(\"Predicted\\t\", \"actual\")\n",
    "for i in range(y_test.shape[0]):\n",
    "    print('{} \\t\\t {}' .format(predicted[i], y_test[i]))"
   ]
  },
  {
   "cell_type": "code",
   "execution_count": 13,
   "metadata": {},
   "outputs": [
    {
     "name": "stdout",
     "output_type": "stream",
     "text": [
      "91.11111111111111\n"
     ]
    }
   ],
   "source": [
    "accuracy(predicted,y_test)"
   ]
  },
  {
   "cell_type": "code",
   "execution_count": 21,
   "metadata": {},
   "outputs": [
    {
     "name": "stdout",
     "output_type": "stream",
     "text": [
      "Final weight matrix is \n",
      "[[ 30  37 -58]\n",
      " [ 70   1  -6]\n",
      " [-99  -1  29]]\n",
      "70\n"
     ]
    }
   ],
   "source": [
    "print(\"Final weight matrix is \")\n",
    "print(w)\n",
    "print(w[1][0])"
   ]
  },
  {
   "cell_type": "code",
   "execution_count": 27,
   "metadata": {},
   "outputs": [
    {
     "data": {
      "text/plain": [
       "[<matplotlib.lines.Line2D at 0x27781783e48>]"
      ]
     },
     "execution_count": 27,
     "metadata": {},
     "output_type": "execute_result"
    },
    {
     "data": {
      "image/png": "[encoded data removed]",
      "text/plain": [
       "<Figure size 432x288 with 1 Axes>"
      ]
     },
     "metadata": {
      "needs_background": "light"
     },
     "output_type": "display_data"
    }
   ],
   "source": [
    "colors = ['r','b','g']\n",
    "plt.scatter(np.array(data)[:,0], np.array(data)[:,1], c = Y.reshape(-1), cmap=ListedColormap(colors))\n",
    "ax = plt.gca()\n",
    "ax.autoscale(False)\n",
    "x_vals = np.array(ax.get_xlim())\n",
    "w_guess1 = w[0][1:]\n",
    "b_guess1 = w[0][0]\n",
    "y_vals1 = -(x_vals * w_guess1[0] + b_guess1)/w_guess1[1]\n",
    "plt.plot(x_vals, y_vals1, '-', c=\"green\")\n",
    "\n",
    "w_guess2 = w[1][1:]\n",
    "b_guess2 = w[1][0]\n",
    "y_vals2 = -(x_vals * w_guess2[0] + b_guess2)/w_guess2[1]\n",
    "plt.plot(x_vals, y_vals2, c=\"blue\")\n",
    "\n",
    "w_guess3 = w[2][1:]\n",
    "b_guess3 = w[2][0]\n",
    "y_vals3 = -(x_vals * w_guess3[0] + b_guess3)/w_guess3[1]\n",
    "plt.plot(x_vals, y_vals3, '-', c=\"yellow\")"
   ]
  },
  {
   "cell_type": "code",
   "execution_count": null,
   "metadata": {},
   "outputs": [],
   "source": []
  }
 ],
 "metadata": {
  "kernelspec": {
   "display_name": "Python 3",
   "language": "python",
   "name": "python3"
  },
  "language_info": {
   "codemirror_mode": {
    "name": "ipython",
    "version": 3
   },
   "file_extension": ".py",
   "mimetype": "text/x-python",
   "name": "python",
   "nbconvert_exporter": "python",
   "pygments_lexer": "ipython3",
   "version": "3.7.1"
  }
 },
 "nbformat": 4,
 "nbformat_minor": 2
}
